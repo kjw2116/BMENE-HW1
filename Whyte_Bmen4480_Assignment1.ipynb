{
 "cells": [
  {
   "cell_type": "markdown",
   "metadata": {},
   "source": [
    "# *Assignment 1:*  "
   ]
  },
  {
   "cell_type": "markdown",
   "metadata": {},
   "source": [
    "# Question 1. Download preprocessed single-cell gene expression data for ~4K PBMCs (peripheral blood cells) from a healthy donor."
   ]
  },
  {
   "cell_type": "code",
   "execution_count": 5,
   "metadata": {},
   "outputs": [],
   "source": [
    "# Load libraries and mtx file\n",
    "import numpy as np\n",
    "import scipy\n",
    "from scipy import sparse\n",
    "import scipy.io\n",
    "from scipy.io import mmread\n",
    "A = mmread('./GRCh38/matrix.mtx')"
   ]
  },
  {
   "cell_type": "code",
   "execution_count": 6,
   "metadata": {},
   "outputs": [
    {
     "data": {
      "text/plain": [
       "(33694, 4340)"
      ]
     },
     "execution_count": 6,
     "metadata": {},
     "output_type": "execute_result"
    }
   ],
   "source": [
    "A.shape"
   ]
  },
  {
   "cell_type": "code",
   "execution_count": 7,
   "metadata": {},
   "outputs": [
    {
     "data": {
      "text/plain": [
       "5727695"
      ]
     },
     "execution_count": 7,
     "metadata": {},
     "output_type": "execute_result"
    }
   ],
   "source": [
    "A.size"
   ]
  },
  {
   "cell_type": "code",
   "execution_count": 8,
   "metadata": {},
   "outputs": [
    {
     "data": {
      "text/plain": [
       "2"
      ]
     },
     "execution_count": 8,
     "metadata": {},
     "output_type": "execute_result"
    }
   ],
   "source": [
    "A.ndim"
   ]
  },
  {
   "cell_type": "markdown",
   "metadata": {},
   "source": [
    "## Q1a. Construct dense matrix of genes by cells from the sparse list format."
   ]
  },
  {
   "cell_type": "code",
   "execution_count": 9,
   "metadata": {},
   "outputs": [],
   "source": [
    "#I obviously am unsure of what I am doing, I knot the MEX format is already sparse, but not familiar with this type of data please bear with me\n",
    "matrix_sparse = sparse.csr_matrix(A) \n",
    "# is this genes by cells?"
   ]
  },
  {
   "cell_type": "code",
   "execution_count": 10,
   "metadata": {},
   "outputs": [
    {
     "name": "stdout",
     "output_type": "stream",
     "text": [
      "  (3, 230)\t1\n",
      "  (3, 762)\t1\n",
      "  (3, 772)\t1\n",
      "  (3, 1229)\t1\n",
      "  (3, 2641)\t1\n",
      "  (3, 3153)\t1\n",
      "  (3, 3341)\t1\n",
      "  (3, 3623)\t1\n",
      "  (3, 4176)\t1\n",
      "  (4, 230)\t1\n",
      "  (4, 1229)\t1\n",
      "  (7, 1921)\t1\n",
      "  (8, 9)\t1\n",
      "  (8, 18)\t1\n",
      "  (8, 20)\t1\n",
      "  (8, 27)\t1\n",
      "  (8, 29)\t1\n",
      "  (8, 31)\t1\n",
      "  (8, 38)\t1\n",
      "  (8, 48)\t2\n",
      "  (8, 57)\t2\n",
      "  (8, 63)\t1\n",
      "  (8, 73)\t1\n",
      "  (8, 93)\t1\n",
      "  (8, 96)\t1\n",
      "  :\t:\n",
      "  (33691, 1780)\t1\n",
      "  (33691, 1836)\t1\n",
      "  (33691, 1872)\t1\n",
      "  (33691, 2228)\t1\n",
      "  (33691, 2291)\t1\n",
      "  (33691, 2507)\t1\n",
      "  (33691, 2520)\t1\n",
      "  (33691, 2615)\t1\n",
      "  (33691, 2880)\t1\n",
      "  (33691, 2946)\t1\n",
      "  (33691, 3131)\t1\n",
      "  (33691, 3157)\t1\n",
      "  (33691, 3254)\t1\n",
      "  (33691, 3292)\t1\n",
      "  (33691, 3352)\t1\n",
      "  (33691, 3410)\t1\n",
      "  (33691, 3503)\t1\n",
      "  (33691, 3599)\t1\n",
      "  (33691, 3656)\t1\n",
      "  (33691, 3709)\t1\n",
      "  (33691, 3747)\t1\n",
      "  (33691, 4013)\t1\n",
      "  (33691, 4092)\t1\n",
      "  (33691, 4106)\t1\n",
      "  (33691, 4126)\t1\n"
     ]
    }
   ],
   "source": [
    "print(matrix_sparse)"
   ]
  },
  {
   "cell_type": "code",
   "execution_count": null,
   "metadata": {},
   "outputs": [],
   "source": [
    "matrix_sparse.size #what is the size of this matrix"
   ]
  },
  {
   "cell_type": "code",
   "execution_count": null,
   "metadata": {},
   "outputs": [],
   "source": [
    "matrix_sparse.shape #how many genes, how many cells"
   ]
  },
  {
   "cell_type": "code",
   "execution_count": 14,
   "metadata": {},
   "outputs": [
    {
     "data": {
      "text/plain": [
       "matrix([[0, 0, 0, ..., 0, 0, 0],\n",
       "        [0, 0, 0, ..., 0, 0, 0],\n",
       "        [0, 0, 0, ..., 0, 0, 0],\n",
       "        ...,\n",
       "        [0, 0, 0, ..., 0, 0, 0],\n",
       "        [0, 0, 0, ..., 0, 0, 0],\n",
       "        [0, 0, 0, ..., 0, 0, 0]], dtype=int64)"
      ]
     },
     "execution_count": 14,
     "metadata": {},
     "output_type": "execute_result"
    }
   ],
   "source": [
    "#construct a dense matrix of genes by cells from the sparse list format \n",
    "matrix_sparse.todense()"
   ]
  },
  {
   "cell_type": "code",
   "execution_count": 15,
   "metadata": {},
   "outputs": [
    {
     "data": {
      "text/plain": [
       "array([[0, 0, 0, ..., 0, 0, 0],\n",
       "       [0, 0, 0, ..., 0, 0, 0],\n",
       "       [0, 0, 0, ..., 0, 0, 0],\n",
       "       ...,\n",
       "       [0, 0, 0, ..., 0, 0, 0],\n",
       "       [0, 0, 0, ..., 0, 0, 0],\n",
       "       [0, 0, 0, ..., 0, 0, 0]], dtype=int64)"
      ]
     },
     "execution_count": 15,
     "metadata": {},
     "output_type": "execute_result"
    }
   ],
   "source": [
    "matrix_sparse.toarray()"
   ]
  },
  {
   "cell_type": "code",
   "execution_count": null,
   "metadata": {},
   "outputs": [],
   "source": [
    "matrix_sparse = np.asarray(matrix_sparse)\n",
    "np.median(matrix_sparse)\n",
    "\n",
    "#what am i doing wrong here"
   ]
  },
  {
   "cell_type": "markdown",
   "metadata": {},
   "source": [
    "## Q1b: Plot histogram of log10 of library size (total counts per cell)."
   ]
  },
  {
   "cell_type": "code",
   "execution_count": 16,
   "metadata": {},
   "outputs": [
    {
     "data": {
      "text/plain": [
       "array([-1.74976547,  0.3426804 ,  1.1530358 , -0.25243604,  0.98132079,\n",
       "        0.51421884,  0.22117967, -1.07004333, -0.18949583,  0.25500144])"
      ]
     },
     "execution_count": 16,
     "metadata": {},
     "output_type": "execute_result"
    }
   ],
   "source": [
    "#load libraries of me just trying to do a normal histogram, could you indicate where I need to change code for log10?\n",
    "import numpy as np\n",
    "np.random.seed(100)\n",
    "np_hist = np.random.normal (loc=0, scale=1, size=1000) # I would imagine that it is somewhere here?\n",
    "np_hist[:10]"
   ]
  },
  {
   "cell_type": "code",
   "execution_count": null,
   "metadata": {},
   "outputs": [],
   "source": [
    "np_hist.mean(), np_hist.std()"
   ]
  },
  {
   "cell_type": "code",
   "execution_count": 20,
   "metadata": {},
   "outputs": [],
   "source": [
    "hist,bin_edges = np.histogram(np_hist)"
   ]
  },
  {
   "cell_type": "code",
   "execution_count": 21,
   "metadata": {},
   "outputs": [
    {
     "data": {
      "text/plain": [
       "array([  7,  37, 111, 207, 275, 213, 105,  31,  10,   4])"
      ]
     },
     "execution_count": 21,
     "metadata": {},
     "output_type": "execute_result"
    }
   ],
   "source": [
    "hist"
   ]
  },
  {
   "cell_type": "code",
   "execution_count": 22,
   "metadata": {},
   "outputs": [
    {
     "data": {
      "text/plain": [
       "array([-3.20995538, -2.50316588, -1.79637637, -1.08958687, -0.38279736,\n",
       "        0.32399215,  1.03078165,  1.73757116,  2.44436066,  3.15115017,\n",
       "        3.85793967])"
      ]
     },
     "execution_count": 22,
     "metadata": {},
     "output_type": "execute_result"
    }
   ],
   "source": [
    "bin_edges"
   ]
  },
  {
   "cell_type": "code",
   "execution_count": 26,
   "metadata": {},
   "outputs": [],
   "source": [
    "import matplotlib.pyplot as plt\n",
    "%matplotlib inline"
   ]
  },
  {
   "cell_type": "code",
   "execution_count": 28,
   "metadata": {},
   "outputs": [
    {
     "data": {
      "image/png": "[encoded data removed]",
      "text/plain": [
       "<Figure size 720x576 with 1 Axes>"
      ]
     },
     "metadata": {
      "needs_background": "light"
     },
     "output_type": "display_data"
    }
   ],
   "source": [
    "plt.figure(figsize=[10,8])\n",
    "\n",
    "plt.bar(bin_edges[:-1], hist, width = 0.5, color='#0504aa', alpha=0.7)\n",
    "\n",
    "plt.xlim(min(bin_edges), max(bin_edges))\n",
    "\n",
    "plt.grid(axis='y', alpha=0.75)\n",
    "\n",
    "plt.xlabel(\"Value\", fontsize=15)\n",
    "\n",
    "plt.ylabel('Frequency', fontsize=15)\n",
    "\n",
    "plt.xticks(fontsize=15)\n",
    "\n",
    "plt.yticks(fontsize=15)\n",
    "\n",
    "plt.ylabel('Frequency', fontsize=15)\n",
    "\n",
    "plt.title ('normal distribution histogram', fontsize=15)\n",
    "\n",
    "plt.show()"
   ]
  },
  {
   "cell_type": "code",
   "execution_count": null,
   "metadata": {},
   "outputs": [],
   "source": [
    "# histogram on log10 of library size (5727695) = 6.75797988372. \n",
    "# Use non-equal bin sizes, such that they look equal on log scale.\n",
    "\n",
    "plt.figure(figsize=[10,8])\n",
    "\n",
    "plt.bar(bin_edges[:-1], hist, width = 0.5, color='#0504aa', alpha=0.7)\n",
    "\n",
    "plt.xlim(min(bin_edges), max(bin_edges))\n",
    "\n",
    "plt.grid(axis='y', alpha=0.75)\n",
    "\n",
    "plt.xlabel(\"Value\", fontsize=15)\n",
    "\n",
    "plt.ylabel('Frequency', fontsize=15)\n",
    "\n",
    "plt.xticks(fontsize=15)\n",
    "\n",
    "plt.yticks(fontsize=15)\n",
    "\n",
    "plt.ylabel('Frequency', fontsize=15)\n",
    "\n",
    "plt.title ('log scale', fontsize=15)\n",
    "\n",
    "logbins = np.logspace(np.log10(bins[0]),np.log10(bins[-1]),len(bins))\n",
    "plt.subplot(212)\n",
    "plt.hist(np_hist, bins=logbins)\n",
    "plt.xscale('log')\n",
    "plt.show()"
   ]
  },
  {
   "cell_type": "code",
   "execution_count": null,
   "metadata": {},
   "outputs": [],
   "source": [
    "## How does it look after filtering\n",
    "## What is the median\n",
    "np.median(sparse_matrix) #this is so frustrating"
   ]
  },
  {
   "cell_type": "markdown",
   "metadata": {},
   "source": [
    "## Q1c Plot histogram of log10 of total number of cells that each gene is expressed in.  Distribution?, what about filtering?"
   ]
  },
  {
   "cell_type": "markdown",
   "metadata": {},
   "source": [
    "# Q2 Normalize and visualize the data"
   ]
  },
  {
   "cell_type": "markdown",
   "metadata": {},
   "source": [
    "## Q2a Normalize the data with global scaling to the median library size"
   ]
  },
  {
   "cell_type": "code",
   "execution_count": null,
   "metadata": {},
   "outputs": [],
   "source": [
    "## global scaling to median library size = (row sum/library size)*median library size, and that code would be calling for sum of vector?"
   ]
  },
  {
   "cell_type": "markdown",
   "metadata": {},
   "source": [
    "## Q2b Embed the normalized data to 2D using t-SNE or Umap or any other dimensionality reduction method. Justify your method of choice \n",
    "  <https://towardsdatascience.com/dimensionality-reduction-for-data-visualization-pca-vs-tsne-vs-umap-be4aa7b1cb29>"
   ]
  },
  {
   "cell_type": "code",
   "execution_count": null,
   "metadata": {},
   "outputs": [],
   "source": [
    "#import numpy as np\n",
    "#import pandas as pd\n",
    "#import time\n",
    "# For plotting\n",
    "#import matplotlib.pyplot as plt\n",
    "#from mpl_toolkits.mplot3d import Axes3D\n",
    "#%matplotlib inline\n",
    "#PCA\n",
    "#from sklearn.decomposition import PCA\n",
    "#TSNE\n",
    "#from sklearn.manifold import TSNE\n",
    "#UMAP\n",
    "#import umap"
   ]
  },
  {
   "cell_type": "code",
   "execution_count": null,
   "metadata": {},
   "outputs": [],
   "source": [
    "#train = pd.read_csv('/kaggle/input/sign-language-mnist/sign_mnist_test/sign_mnist_test.csv')\n",
    "#train.head()"
   ]
  },
  {
   "cell_type": "code",
   "execution_count": null,
   "metadata": {},
   "outputs": [],
   "source": [
    "# Setting the label and the feature columns\n",
    "#y = train.loc[:,'label'].values\n",
    "#x = train.loc[:,'pixel1':].values\n",
    "#print(np.unique(y))"
   ]
  },
  {
   "cell_type": "markdown",
   "metadata": {},
   "source": [
    "## PCA"
   ]
  },
  {
   "cell_type": "code",
   "execution_count": null,
   "metadata": {},
   "outputs": [],
   "source": [
    "# Applying PCA\n",
    "#start = time.time()\n",
    "#pca = PCA(n_components=3)\n",
    "#principalComponents = pca.fit_transform(x)\n",
    "#print('Duration: {} seconds'.format(time.time() - start))\n",
    "#principal = pd.DataFrame(data = principalComponents\n",
    "#             , columns = ['principal component 1', 'principal component 2','principal component 3'])\n",
    "#principal.shape"
   ]
  },
  {
   "cell_type": "code",
   "execution_count": null,
   "metadata": {},
   "outputs": [],
   "source": [
    "# Plotting PCA 2D\n",
    "#plt.style.use('dark_background')\n",
    "#plt.scatter(principalComponents[:, 0], principalComponents[:, 1], c=y, cmap='gist_rainbow')\n",
    "#plt.gca().set_aspect('equal', 'datalim')\n",
    "#plt.colorbar(boundaries=np.arange(24)).set_ticks(np.arange(24))\n",
    "#plt.title('Visualizing sign-language-mnist through PCA', fontsize=24);\n",
    "#plt.xlabel('Principal Component 1')\n",
    "#plt.ylabel('Principal Component 2')"
   ]
  },
  {
   "cell_type": "code",
   "execution_count": null,
   "metadata": {},
   "outputs": [],
   "source": [
    "# Plotting PCA 3D\n",
    "#ax = plt.figure(figsize=(12,10)).gca(projection='3d')\n",
    "#ax.scatter(\n",
    "#    xs=principalComponents[:, 0], \n",
    "#    ys=principalComponents[:, 1], \n",
    "#    zs=principalComponents[:, 2], \n",
    "#    c=y, \n",
    "#    cmap='gist_rainbow'\n",
    "#)\n",
    "#ax.set_xlabel('Principal Component 1')\n",
    "#ax.set_ylabel('Principal Component 2')\n",
    "#ax.set_zlabel('Principal Component 3')\n",
    "#plt.title('Visualizing sign-language-mnist through PCA in 3D', fontsize=24);\n",
    "#lt.show()"
   ]
  },
  {
   "cell_type": "markdown",
   "metadata": {},
   "source": [
    "## t-SNE"
   ]
  },
  {
   "cell_type": "code",
   "execution_count": null,
   "metadata": {},
   "outputs": [],
   "source": [
    "#start = time.time()\n",
    "#pca_50 = PCA(n_components=50)\n",
    "#pca_result_50 = pca_50.fit_transform(x)\n",
    "#tsne = TSNE(random_state = 42, n_components=3,verbose=0, perplexity=40, n_iter=400).fit_transform(pca_result_50)\n",
    "#print(‘Duration: {} seconds’.format(time.time() — start))"
   ]
  },
  {
   "cell_type": "code",
   "execution_count": null,
   "metadata": {},
   "outputs": [],
   "source": [
    "# Visualising t-SNE 2D\n",
    "#fig = plt.figure(figsize=(12,8))\n",
    "#plt.scatter(tsne[:, 0], tsne[:, 1], c=y, cmap='gist_rainbow')\n",
    "#plt.gca().set_aspect('equal', 'datalim')\n",
    "#plt.colorbar(boundaries=np.arange(24)).set_ticks(np.arange(24))\n",
    "#plt.title('Visualizing sign-language-mnist through t-SNE in 2D', fontsize=24);\n",
    "#plt.xlabel('tsne_1')\n",
    "#plt.ylabel('tsne_2')"
   ]
  },
  {
   "cell_type": "code",
   "execution_count": null,
   "metadata": {},
   "outputs": [],
   "source": [
    "# Visualising t-SNE 3D\n",
    "#fig = plt.figure(figsize=(12,8))\n",
    "#ax = fig.add_subplot(111, projection='3d')\n",
    "#ax.scatter(tsne[:, 0], tsne[:, 1],tsne[:,2], c=y, cmap='gist_rainbow')\n",
    "#ax.set_xlabel('tsne_1')\n",
    "#ax.set_ylabel('tsne_2')\n",
    "#ax.set_zlabel('tsne_3')\n",
    "#plt.title('Visualizing sign-language-mnist through TSNE in 3D', fontsize=24);\n",
    "#plt.show()\n"
   ]
  },
  {
   "cell_type": "markdown",
   "metadata": {},
   "source": [
    "## UMAP\n",
    "\n"
   ]
  },
  {
   "cell_type": "code",
   "execution_count": null,
   "metadata": {},
   "outputs": [],
   "source": [
    "#start = time.time()\n",
    "#reducer = umap.UMAP(random_state=42,n_components=3)\n",
    "#embedding = reducer.fit_transform(x)\n",
    "#print('Duration: {} seconds'.format(time.time() - start))"
   ]
  },
  {
   "cell_type": "code",
   "execution_count": null,
   "metadata": {},
   "outputs": [],
   "source": [
    "# Visualising UMAP in 2d\n",
    "#fig = plt.figure(figsize=(12,8))\n",
    "#plt.scatter(reducer.embedding_[:, 0], reducer.embedding_[:, 1], c=y, cmap='gist_rainbow')\n",
    "#plt.gca().set_aspect('equal', 'datalim')\n",
    "#plt.colorbar(boundaries=np.arange(24)).set_ticks(np.arange(24))\n",
    "#ax.set_xlabel('umap_1')\n",
    "#ax.set_ylabel('umap_2')\n",
    "#plt.title('Visualizing sign-language-mnist with UMAP in 2D', fontsize=24);"
   ]
  },
  {
   "cell_type": "code",
   "execution_count": null,
   "metadata": {},
   "outputs": [],
   "source": [
    "# Visualising UMAP in 3d\n",
    "#fig = plt.figure(figsize=(12,8))\n",
    "#ax = fig.add_subplot(111, projection='3d')\n",
    "#ax.scatter(reducer.embedding_[:, 0], reducer.embedding_[:, 1],reducer.embedding_[:, 2], c=y, cmap='gist_rainbow')\n",
    "#ax.set_xlabel('umap_1')\n",
    "#ax.set_ylabel('umap_2')\n",
    "#ax.set_zlabel('umap_3')\n",
    "#plt.title('Visualizing sign-language-mnist through UMAP in 3D', fontsize=24);\n",
    "#plt.show()"
   ]
  },
  {
   "cell_type": "markdown",
   "metadata": {},
   "source": [
    "## Q2c Color cells in the embedded 2D map by log10 of library size. Interpret the plot"
   ]
  },
  {
   "cell_type": "code",
   "execution_count": null,
   "metadata": {},
   "outputs": [],
   "source": [
    "#plt.colorbar(boundaries=np.arange(24)).set_ticks(np.arange(24)) ## not the log10 command I know"
   ]
  },
  {
   "cell_type": "markdown",
   "metadata": {},
   "source": [
    "## Q2d Color cells in the 2D map by normalized expression of major immune cell markers. Which cell types can you detect?"
   ]
  },
  {
   "cell_type": "code",
   "execution_count": null,
   "metadata": {},
   "outputs": [],
   "source": [
    "#plt.colorbar(boundaries=np.arange(24)).set_ticks(np.arange(24)) \n",
    "## now normalized expression = (row sum/librarysize) *median library size?  \n",
    "\n",
    "## cell types detected by size; \n",
    "#PBMC = lymphocytes and monocytes by size? \n",
    "## once the data is normalized you can see what is gene is a housekeeping gene if it is the same across all cells"
   ]
  },
  {
   "cell_type": "markdown",
   "metadata": {},
   "source": [
    "# Q3 Regress out library size using a linear regression model and redo Q2. Explain if/why you used a regularizer"
   ]
  },
  {
   "cell_type": "code",
   "execution_count": null,
   "metadata": {},
   "outputs": [],
   "source": [
    "## import library sklearn for linear model:\n",
    "\n",
    "#from sklearn import linear_model\n",
    "#clf = linear_model.Lasso(alpha=0.1)\n",
    "#clf.fit([[0,0], [1, 1], [2, 2]], [0, 1, 2])\n",
    "#Lasso(alpha=0.1)\n",
    "#print(clf.coef_)\n",
    "#[0.85 0.  ]\n",
    "#print(clf.intercept_)\n",
    "#0.15...\n",
    "\n",
    "#__init__(alpha=1.0, *, fit_intercept=True, normalize=False, precompute=False, copy_X=True, max_iter=1000, tol=0.0001, warm_start=False, positive=False, random_state=None, selection='cyclic')\n",
    "\n",
    "#fit(X, y, sample_weight=None, check_input=True)\n",
    "#get_params(deep=True)\n",
    "#static path(X, y, *, |1_ration=0.5, eps=0.001, n_alphas=100, aphas=None, precompute='auto', Xy=None, copy_X=True, coef_init=None, verbose=False, return_n_iter=False, positive=False, check_input=True, **params)\n",
    "\n",
    "\n",
    "\n",
    "### Then input where I have median, we normalize using regression coeff when in the above code the library size =0?"
   ]
  },
  {
   "cell_type": "markdown",
   "metadata": {},
   "source": [
    "# Q4 Solve problem 3.12 of <https://www.microsoft.com/en-us/research/uploads/prod/2006/01/Bishop-Pattern-Recognition-and-Machine-Learning-2006.pdf>"
   ]
  },
  {
   "cell_type": "code",
   "execution_count": 3,
   "metadata": {},
   "outputs": [
    {
     "ename": "NameError",
     "evalue": "name 'pandas' is not defined",
     "output_type": "error",
     "traceback": [
      "\u001b[0;31m---------------------------------------------------------------------------\u001b[0m",
      "\u001b[0;31mNameError\u001b[0m                                 Traceback (most recent call last)",
      "\u001b[0;32m<ipython-input-3-800b3708db0c>\u001b[0m in \u001b[0;36m<module>\u001b[0;34m\u001b[0m\n\u001b[0;32m----> 1\u001b[0;31m \u001b[0mhelp\u001b[0m\u001b[0;34m(\u001b[0m\u001b[0mpandas\u001b[0m\u001b[0;34m)\u001b[0m\u001b[0;34m\u001b[0m\u001b[0;34m\u001b[0m\u001b[0m\n\u001b[0m",
      "\u001b[0;31mNameError\u001b[0m: name 'pandas' is not defined"
     ]
    }
   ],
   "source": [
    "We saw in Section 2.3.6 that the conjugate prior for a Gaussian distribution\n",
    "with unknown mean and unknown precision (inverse variance) is a normal-gamma\n",
    "distribution. This property also holds for the case of the conditional Gaussian distribution p(t|x, w, β) of the linear regression model. If we consider the likelihood\n",
    "function (3.10), then the conjugate prior for w and β is given by\n",
    "p(w, β) = N (w|m0, β−1S0)Gam(β|a0, b0). (3.112)\n",
    "\n",
    "Show that the corresponding posterior distribution takes the same functional form,\n",
    "so that\n",
    "p(w, β|t) = N (w|mN , β−1SN )Gam(β|aN , bN ) (3.113)\n",
    "and find expressions for the posterior parameters mN , SN , aN , and bN .\n",
    "\n",
    "#posterior distribution?"
   ]
  },
  {
   "cell_type": "code",
   "execution_count": null,
   "metadata": {},
   "outputs": [],
   "source": []
  }
 ],
 "metadata": {
  "kernelspec": {
   "display_name": "Python 3",
   "language": "python",
   "name": "python3"
  },
  "language_info": {
   "codemirror_mode": {
    "name": "ipython",
    "version": 3
   },
   "file_extension": ".py",
   "mimetype": "text/x-python",
   "name": "python",
   "nbconvert_exporter": "python",
   "pygments_lexer": "ipython3",
   "version": "3.7.6"
  }
 },
 "nbformat": 4,
 "nbformat_minor": 4
}
